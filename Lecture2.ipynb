{
 "cells": [
  {
   "cell_type": "markdown",
   "metadata": {},
   "source": [
    "# Lecture 2: Building Neural Networks with Pytorch\n",
    "\n",
    "In last lecture, we have studied how to define a tensor, a function and how to take derivative of a function.\n",
    "However, building and training neural networks directly user-defined functions would be very cumbersome. Luckily,\n",
    "Pytorch provides built-in functionality which makes it much easier to build and train neural networks. In this section, we will describe how to use this functionality to build (i.e. define) a network. This lecture includes:\n",
    "\n",
    "\n",
    "1. Build a logistic model\n",
    "2. Build a simple deep neural network\n",
    "3. Load a dataset\n",
    "4. Define a training algorithm\n",
    "5. Test a the accuracy of a trained model"
   ]
  },
  {
   "cell_type": "markdown",
   "metadata": {},
   "source": [
    "The most important library for building neural networks is the torch.nn library. This library allows us to build neural networks by concatenating different types of layers."
   ]
  },
  {
   "cell_type": "markdown",
   "metadata": {},
   "source": [
    "# 1. Build a logistic model"
   ]
  },
  {
   "cell_type": "code",
   "execution_count": 28,
   "metadata": {},
   "outputs": [],
   "source": [
    "import torch.nn as nn\n",
    "\n",
    "# The class defining our network should inherit from nn.Module.\n",
    "# This model simply takes an input of dimension 784 and multiplies it\n",
    "# by a 784x10 matrix of parameters.\n",
    "class LogisticRegression(nn.Module): \n",
    "    def __init__(self):\n",
    "        super(LogisticRegression, self).__init__() \n",
    "        self.apply = nn.Sequential(nn.Linear(28 * 28, 10))\n",
    "    def forward(self, x):\n",
    "        x = x.view(-1,28*28)\n",
    "        x = self.apply(x) \n",
    "        return x\n",
    "# Construct an instance of the model.\n",
    "model = LogisticRegression()"
   ]
  },
  {
   "cell_type": "markdown",
   "metadata": {},
   "source": [
    "# 2. Build a simple deep neural network"
   ]
  },
  {
   "cell_type": "code",
   "execution_count": 30,
   "metadata": {},
   "outputs": [
    {
     "name": "stdout",
     "output_type": "stream",
     "text": [
      "Net(\n",
      "  (apply): Sequential(\n",
      "    (0): Linear(in_features=20, out_features=20, bias=True)\n",
      "    (1): ReLU()\n",
      "    (2): Linear(in_features=20, out_features=20, bias=True)\n",
      "    (3): ReLU()\n",
      "  )\n",
      ")\n"
     ]
    }
   ],
   "source": [
    "import torch.nn as nn\n",
    "# The class defining our network should inherit from nn.Module.\n",
    "class Net(nn.Module): \n",
    "    def __init__(self):\n",
    "        super(Net, self).__init__()\n",
    "# Here we define the layers of the network.\n",
    "# The nn.Sequential method constructs a model by concatenating the layers which are input to it.\n",
    "        self.apply = nn.Sequential(nn.Linear(20,20), \n",
    "        nn.ReLU(), \n",
    "        nn.Linear(20,20), \n",
    "        nn.ReLU()) \n",
    "# Sequentially apply a\n",
    "# Linear function Rˆ20 -> Rˆ20 \n",
    "# Pointwise ReLU\n",
    "# Linear function Rˆ20 -> Rˆ20 \n",
    "# Pointwise ReLU\n",
    "                                   \n",
    "# The following method must be overloaded. It specifies how to evaluate the model given an input x.\n",
    "    def forward(self, x):\n",
    "        x = x.view(-1,28*28)\n",
    "        return self.apply(x) \n",
    "model = Net()\n",
    "print(model)"
   ]
  },
  {
   "cell_type": "markdown",
   "metadata": {},
   "source": [
    "# Exercise 1: Define a deep neural network containing two layers and a logistic regression, each of the two layers is consist of a linear funtion following with a ReLU function. Given a tensor $x\\in R^{3*3}$ as input, print the output of the neural network $y\\in R^2$. For example, we have \n",
    "# $$x=\\begin{bmatrix} 1 & 2 & 3 \\\\ 4 & 5 & 6 \\\\ 7 & 8 & 9 \\end{bmatrix}$$\n",
    "\n",
    "# Note that: the initial weights in the neural network are random."
   ]
  },
  {
   "cell_type": "markdown",
   "metadata": {},
   "source": [
    "# 3. Load a dataset\n",
    "\n",
    "The MNIST database of handwritten digits, available from this page, has a training set of 60,000 examples, and a test set of 10,000 examples. It is a subset of a larger set available from NIST. The digits have been size-normalized and centered in a fixed-size image. (see more on http://yann.lecun.com/exdb/mnist/).\n",
    "\n",
    "In the following, we show how to load the MNIST dataset by using Pytorch"
   ]
  },
  {
   "cell_type": "code",
   "execution_count": 36,
   "metadata": {},
   "outputs": [
    {
     "name": "stdout",
     "output_type": "stream",
     "text": [
      "tensor([7])\n"
     ]
    },
    {
     "data": {
      "image/png": "[encoded data removed]",
      "text/plain": [
       "<Figure size 432x288 with 1 Axes>"
      ]
     },
     "metadata": {
      "needs_background": "light"
     },
     "output_type": "display_data"
    }
   ],
   "source": [
    "import torch\n",
    "import torchvision\n",
    "import torchvision.transforms as transforms \n",
    "import matplotlib.pyplot as plt\n",
    "import numpy as np\n",
    "\n",
    "# Transforms images from [0,255] to [0,1] range.\n",
    "transform = transforms.Compose([transforms.ToTensor(),transforms.Normalize(mean=[0], std=[1])])\n",
    "\n",
    "# Load the set of training images.\n",
    "trainset = torchvision.datasets.MNIST(root='./data', train= True, download=True, transform=transform)\n",
    "trainloader = torch.utils.data.DataLoader(trainset, batch_size=1, shuffle=True, num_workers=2 )\n",
    "\n",
    "# Load the set of test images.\n",
    "testset = torchvision.datasets.MNIST(root='./data', train= False, download=True, transform=transform)\n",
    "testloader = torch.utils.data.DataLoader(testset, batch_size=1, shuffle=False, num_workers=2) \n",
    "\n",
    "# Let’s plot some of the images to see what we’re dealing with.\n",
    "def plot_images(imgs):\n",
    "    for i in range(imgs.size()[0]):\n",
    "            npimg = imgs.numpy()[i,0,:,:] \n",
    "            plt.imshow(npimg, cmap='gray') \n",
    "            plt.ion()\n",
    "            plt.show()\n",
    "            plt.pause(.05)\n",
    "\n",
    "data = iter(testloader) \n",
    "images, labels = data.next() \n",
    "print(labels) \n",
    "plot_images(images)"
   ]
  },
  {
   "cell_type": "markdown",
   "metadata": {},
   "source": [
    "# 4. Define a training algorithm"
   ]
  },
  {
   "cell_type": "code",
   "execution_count": 46,
   "metadata": {},
   "outputs": [
    {
     "name": "stdout",
     "output_type": "stream",
     "text": [
      "Epoch [1/2], Step [10000/60000], Loss: 6.2340\n",
      "Epoch [1/2], Step [20000/60000], Loss: 0.0003\n",
      "Epoch [1/2], Step [30000/60000], Loss: 0.0000\n",
      "Epoch [1/2], Step [40000/60000], Loss: 0.0010\n",
      "Epoch [1/2], Step [50000/60000], Loss: 0.0000\n",
      "Epoch [1/2], Step [60000/60000], Loss: 0.0003\n",
      "Epoch [2/2], Step [10000/60000], Loss: 0.0000\n",
      "Epoch [2/2], Step [20000/60000], Loss: 0.0231\n",
      "Epoch [2/2], Step [30000/60000], Loss: 0.0000\n",
      "Epoch [2/2], Step [40000/60000], Loss: 20.3300\n",
      "Epoch [2/2], Step [50000/60000], Loss: 0.0001\n",
      "Epoch [2/2], Step [60000/60000], Loss: 0.0000\n"
     ]
    }
   ],
   "source": [
    "# This library contains implementations of a number of useful optimization algorithms.\n",
    "import torch.optim as optim\n",
    "\n",
    "input_size = 28*28\n",
    "num_classes = 10\n",
    "# As an example, we consider Logistic Regression model defined above.\n",
    "model =nn.Linear(input_size, num_classes)\n",
    "\n",
    "# The cross entropy loss is already implemented in Pytorch.\n",
    "criterion = nn.CrossEntropyLoss()\n",
    "\n",
    "# The stochastic gradient descent algorithm with a step size of 0.1.\n",
    "optimizer = optim.SGD(model.parameters(), lr=0.1)\n",
    "\n",
    "# Write a loop to train the model using the given optimizer and loss functions.\n",
    "num_epochs = 2\n",
    "for epoch in range(num_epochs):\n",
    "    for i, (images, labels) in enumerate(trainloader):\n",
    "        # Reshape images to (batch_size, input_size)\n",
    "        images = images.reshape(-1, 28*28)\n",
    "        \n",
    "        # Forward pass\n",
    "        outputs = model(images)\n",
    "        loss = criterion(outputs, labels)\n",
    "        \n",
    "        # Backward and optimize\n",
    "        optimizer.zero_grad()\n",
    "        loss.backward()\n",
    "        optimizer.step()\n",
    "        \n",
    "        if (i+1) % 10000 == 0:\n",
    "            print ('Epoch [{}/{}], Step [{}/{}], Loss: {:.4f}' .format(epoch+1, num_epochs, i+1, len(trainloader), loss.item()))"
   ]
  },
  {
   "cell_type": "markdown",
   "metadata": {},
   "source": [
    "# 5. Test a the accuracy of a trained model"
   ]
  },
  {
   "cell_type": "code",
   "execution_count": 51,
   "metadata": {},
   "outputs": [
    {
     "name": "stdout",
     "output_type": "stream",
     "text": [
      "Out of 10000 samples, the model correctly classified 8967, the test accuracy 0.896700\n"
     ]
    }
   ],
   "source": [
    "# Calculate the total number of test samples and the number of correctly\n",
    "# classified test samples\n",
    "correct = 0\n",
    "total = 0\n",
    "for data in testloader:\n",
    "    images , labels = data\n",
    "    images = images.reshape(-1, 28*28)\n",
    "    outputs = model(images)\n",
    "# Take the most likely label as the predicted label. \n",
    "    _, predicted = torch.max(outputs.data, 1)\n",
    "    total += labels.size(0)\n",
    "    correct += (predicted == labels).sum()\n",
    "print('Out of %d samples, the model correctly classified %d, the test accuracy %f' % (total, correct, float(correct)/total))"
   ]
  },
  {
   "cell_type": "markdown",
   "metadata": {},
   "source": [
    "# Execrise 2: Traning the MNIST with the logisitc regression model to achieve at least 92% test accuracy\n",
    "# Hint: you may need to tune the hyper-parameters: learning rate and epoch number"
   ]
  },
  {
   "cell_type": "markdown",
   "metadata": {},
   "source": [
    "# Execrise 3: Traning the MNIST with a deep neural network to achieve at least 95% test accuracy"
   ]
  }
 ],
 "metadata": {
  "kernelspec": {
   "display_name": "Python 3",
   "language": "python",
   "name": "python3"
  },
  "language_info": {
   "codemirror_mode": {
    "name": "ipython",
    "version": 3
   },
   "file_extension": ".py",
   "mimetype": "text/x-python",
   "name": "python",
   "nbconvert_exporter": "python",
   "pygments_lexer": "ipython3",
   "version": "3.6.6"
  }
 },
 "nbformat": 4,
 "nbformat_minor": 2
}
