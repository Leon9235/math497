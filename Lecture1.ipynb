{
 "cells": [
  {
   "cell_type": "markdown",
   "metadata": {
    "slideshow": {
     "slide_type": "-"
    }
   },
   "source": [
    "# Introduction of some useful tools\n",
    "1. Anaconda\n",
    "2. Pytorch\n",
    "3. Jupyter Notebook\n",
    "4. Some examples: use Jupyter Notebook to do programing with Python and Pytorch\n",
    "\n",
    "\n",
    "\n"
   ]
  },
  {
   "cell_type": "markdown",
   "metadata": {},
   "source": [
    "# 1. Anaconda (package installer)\n",
    "Anaconda is a free and open-source distribution of the Python and R programming languages for scientific computing (data science, machine learning applications, large-scale data processing, predictive analytics, etc.), that aims to simplify package management and deployment. Package versions are managed by the package management system conda. The Anaconda distribution includes data-science packages suitable for Windows, Linux, and MacOS."
   ]
  },
  {
   "cell_type": "markdown",
   "metadata": {},
   "source": [
    "    Install Anaconda (Recommend: Python 3.7 version, Command Line version) from \n",
    "    https://www.anaconda.com/distribution/\n"
   ]
  },
  {
   "cell_type": "markdown",
   "metadata": {},
   "source": [
    "# 2. PyTorch \n",
    "Pytorch is an open source machine learning library based on the Torch library, used for applications such as computer vision and natural language processing. It is primarily developed by Facebook's AI Research lab. It is free and open-source software.\n"
   ]
  },
  {
   "cell_type": "markdown",
   "metadata": {},
   "source": [
    "    Install Pytorch from https://pytorch.org/ , or use \n",
    "\n",
    "    conda install pytorch torchvision -c pytorch\n",
    "    \n",
    "    Note: Pytorch (installed with the way introduced above) has a built-in Python, so we do not need to install an additional Python."
   ]
  },
  {
   "cell_type": "markdown",
   "metadata": {},
   "source": [
    "# 3. Jupyter Notebook \n",
    "Jupyter Notebook is a web-based interactive computational environment for creating Jupyter notebook documents. A Jupyter Notebook document contains an ordered list of input/output cells which can contain code, text (using Markdown), mathematics, plots and rich media, usually ending with the \".ipynb\" extension. "
   ]
  },
  {
   "cell_type": "markdown",
   "metadata": {},
   "source": [
    "    e.g. This is an example of Markdown cell with Latex equations.\n",
    "$$f(x)=x^2+\\frac{1}{2}$$"
   ]
  },
  {
   "cell_type": "code",
   "execution_count": 5,
   "metadata": {},
   "outputs": [
    {
     "name": "stdout",
     "output_type": "stream",
     "text": [
      "x= 3\n"
     ]
    }
   ],
   "source": [
    "# e.g. This is an example of python code cell.\n",
    "import torch\n",
    "x= 1 + 2 \n",
    "print('x=',x)\n"
   ]
  },
  {
   "cell_type": "markdown",
   "metadata": {},
   "source": [
    "    A Jupyter Notebook can be converted to a number of open standard output formats (HTML, presentation slides, LaTeX, PDF, ReStructuredText, Markdown, Python) through \"Download As\" in the web interface, via the nbconvert library or \"jupyter nbconvert\" command line interface in a shell. (Student can do their hw with Jupyter notebook, then submit a .ipynb file. Then the grader can run the code)"
   ]
  },
  {
   "cell_type": "markdown",
   "metadata": {},
   "source": [
    "    Install Jupyter Notebook from https://jupyter.org/install, or use\n",
    "    conda install -c conda-forge notebook\n",
    "    \n",
    "    Run Jupyter Notebook:\n",
    "    Step 1: jupyter notebook in command line\n",
    "    Step 2: Find the link shows in the command line\n",
    "    Step 3: Open the link with your browser"
   ]
  },
  {
   "cell_type": "markdown",
   "metadata": {},
   "source": [
    "For teaching purpose, we can create some public jupyter notebook files. For example, use DGX1 to create some files and share them with the students. How?\n",
    "\n",
    "Step 1: Open your VPN 'cisco anyconnect'\n",
    "\n",
    "Step 2: Enter the public address: http://10.136.3.36:8888/tree/math497\n",
    "\n",
    "Step 3: Click log in (no password)"
   ]
  },
  {
   "cell_type": "markdown",
   "metadata": {},
   "source": [
    "# 4. Use Jupyter Notebook to do programing with Python"
   ]
  },
  {
   "cell_type": "markdown",
   "metadata": {},
   "source": [
    "# Example 1: create A vector and a matrix (generally use tensors in Pytorch) and solve $Ax=b$\n",
    "\n",
    "# $$\n",
    "A=\\begin{bmatrix} 1 & 2 & 3 \\\\ 4 & 5 & 6 \\\\ 7 & 8 & 9 \\end{bmatrix}, \\quad\\quad \n",
    "b=\\begin{bmatrix} 1  \\\\ 2 \\\\ 3 \\end{bmatrix}\n",
    "$$\n",
    "\n",
    "   "
   ]
  },
  {
   "cell_type": "code",
   "execution_count": 165,
   "metadata": {},
   "outputs": [
    {
     "name": "stdout",
     "output_type": "stream",
     "text": [
      "A is tensor([[1., 2., 3.],\n",
      "        [4., 5., 6.],\n",
      "        [7., 8., 9.]])\n",
      "\n",
      "\n",
      "b is tensor([[1.],\n",
      "        [2.],\n",
      "        [3.]])\n"
     ]
    }
   ],
   "source": [
    "import torch\n",
    "\n",
    "# A line started with a pound sign means it is a comment line\n",
    "# We can initialize a matrix as a pytorch tensor:\n",
    "A = torch.tensor([[1,2,3],[4,5,6],[7,8,9]],dtype=torch.float32) \n",
    "print('A is', A)\n",
    "\n",
    "\n",
    "# Print an empty line.\n",
    "print('\\n') \n",
    "\n",
    "# We can initialize a column vection as a pytorch tensor:\n",
    "b = torch.tensor([[1],[2],[3]],dtype=torchb.float32) \n",
    "print('b is', b)\n"
   ]
  },
  {
   "cell_type": "code",
   "execution_count": 178,
   "metadata": {},
   "outputs": [
    {
     "name": "stdout",
     "output_type": "stream",
     "text": [
      "x is tensor([[ 9.9341e-09],\n",
      "        [-1.9868e-08],\n",
      "        [ 3.3333e-01]])\n"
     ]
    }
   ],
   "source": [
    "x, LU =torch.solve(b,A) \n",
    "print('x is', x)"
   ]
  },
  {
   "cell_type": "code",
   "execution_count": 143,
   "metadata": {},
   "outputs": [
    {
     "name": "stdout",
     "output_type": "stream",
     "text": [
      "c1 is: tensor([[0., 0.],\n",
      "        [0., 0.]])\n",
      "Type of c1: torch.float32\n",
      "\n",
      "\n",
      "c2 is tensor([[0, 0],\n",
      "        [0, 0]], dtype=torch.int32)\n",
      "Type of c2: torch.int32\n"
     ]
    }
   ],
   "source": [
    "# We can also initialize a zeroed tensor and check the data type of the tensor\n",
    "c1 = torch.zeros([2,2])\n",
    "print('c1 is:', c1) \n",
    "print('Type of c1:', c1.dtype) \n",
    "\n",
    "# Print an empty line.\n",
    "print('\\n') \n",
    "\n",
    "# Note that the default type of such a tensor is a 32-bit float.\n",
    "c2 = torch.zeros([2,2], dtype=torch.int32)\n",
    "print('c2 is', c2)\n",
    "print('Type of c2:', c2.dtype)"
   ]
  },
  {
   "cell_type": "code",
   "execution_count": 125,
   "metadata": {},
   "outputs": [
    {
     "name": "stdout",
     "output_type": "stream",
     "text": [
      "tensor([[1., 1.],\n",
      "        [1., 1.]])\n",
      "\n",
      "\n",
      "tensor([[2., 1.],\n",
      "        [1., 1.]])\n"
     ]
    }
   ],
   "source": [
    "# some basic operations\n",
    "\n",
    "# plus\n",
    "c = c1 + 1\n",
    "print(c)\n",
    "\n",
    "c[0,0] += 1\n",
    "print(c)"
   ]
  },
  {
   "cell_type": "code",
   "execution_count": 126,
   "metadata": {},
   "outputs": [
    {
     "name": "stdout",
     "output_type": "stream",
     "text": [
      "tensor([[4., 2.],\n",
      "        [2., 2.]])\n",
      "\n",
      "\n",
      "tensor([[8.],\n",
      "        [6.]])\n"
     ]
    }
   ],
   "source": [
    "# multiply\n",
    "c *= 2\n",
    "print(c)\n",
    "\n",
    "print('\\n')\n",
    "\n",
    "# multiplication of a matrix and a vector (generally two size-matched tensors)\n",
    "\n",
    "d = torch.tensor([[1],[2]],dtype=torch.float32) \n",
    "c = torch.mm(c,d)\n",
    "print(c)\n"
   ]
  },
  {
   "cell_type": "markdown",
   "metadata": {},
   "source": [
    "# Exercise 1.1: Given $P=\\begin{bmatrix} 1 & 2 \\\\ 3 & 4\\end{bmatrix}$, investigate the two different multiplications $A*A$ and $torch.mm(A,A)$."
   ]
  },
  {
   "cell_type": "markdown",
   "metadata": {},
   "source": [
    "# Exercise 1.2: Given \n",
    "# $$\n",
    "A=\\begin{bmatrix} 1 & 2 & 3 \\\\ 4 & 5 & 6 \\\\ 7 & 8 & 9 \\end{bmatrix}, \\quad\\quad \n",
    "b=\\begin{bmatrix} 1  \\\\ 2 \\\\ 3 \\end{bmatrix}.\n",
    "$$\n",
    "# Solve $A^2 x = b$"
   ]
  },
  {
   "cell_type": "markdown",
   "metadata": {},
   "source": [
    "# Example 2: Calculate the derivate of $(x\\cdot y)^2$  w.r.t  $x$."
   ]
  },
  {
   "cell_type": "code",
   "execution_count": 183,
   "metadata": {},
   "outputs": [
    {
     "name": "stdout",
     "output_type": "stream",
     "text": [
      "x requires_grad? True\n",
      "y requires_grad? False\n",
      "z.requires_grad? True\n",
      "(tensor([2., 2.]),)\n"
     ]
    }
   ],
   "source": [
    "# In order to calculate the gradient with respect to a tensor, we should set the requires_grad flag to True.\n",
    "x = torch.tensor([1.0, 0.0], requires_grad=True)\n",
    "y = torch.tensor([1.0, 1.0])\n",
    "\n",
    "# By default, requires_grad is set to False if possible.\n",
    "print('x requires_grad?', x.requires_grad)\n",
    "print('y requires_grad?', y.requires_grad)\n",
    "\n",
    "z = torch.dot(x, y)\n",
    "print('z.requires_grad?', z.requires_grad)\n",
    "\n",
    "out = z * z\n",
    "\n",
    "# Calculate the derivative of out w.r.t. x. Automatically applies the chain rule as needed.\n",
    "grad = torch.autograd.grad(outputs=out, inputs=x) \n",
    "print(grad)"
   ]
  },
  {
   "cell_type": "markdown",
   "metadata": {},
   "source": [
    "# Exercise 2: Given $x=\\begin{bmatrix} 1 , 2 , 3 \\end{bmatrix}$ and $y=\\begin{bmatrix} 4  , 5 , 6 \\end{bmatrix}$, Calculate the derivate of $x^2+y^2+(x\\cdot y)^3$ w.r.t $y$."
   ]
  },
  {
   "cell_type": "markdown",
   "metadata": {},
   "source": [
    "# Example 3: Plot a curve"
   ]
  },
  {
   "cell_type": "code",
   "execution_count": 206,
   "metadata": {},
   "outputs": [
    {
     "data": {
      "text/plain": [
       "<matplotlib.legend.Legend at 0x11cdaa2e8>"
      ]
     },
     "execution_count": 206,
     "metadata": {},
     "output_type": "execute_result"
    },
    {
     "data": {
      "image/png": "[encoded data removed]",
      "text/plain": [
       "<Figure size 432x288 with 1 Axes>"
      ]
     },
     "metadata": {
      "needs_background": "light"
     },
     "output_type": "display_data"
    }
   ],
   "source": [
    "import torch\n",
    "import matplotlib.pyplot as plt\n",
    "\n",
    "#generate a linear space with torch.linspace(start, end, steps)\n",
    "x=torch.linspace(-10, 10, 100)\n",
    "# y=x^2\n",
    "y = x**2\n",
    "plt.plot(x, y, label='function y=x^2')\n",
    "plt.legend()"
   ]
  },
  {
   "cell_type": "markdown",
   "metadata": {},
   "source": [
    "# Example 4: In this example, we illustrate how to implement the pointwise ReLU function and plot a function\n",
    "(Note: ReLU function is of course already implemented in Pytorch, but this process can be used to define more comlicated custom functions as well). \n"
   ]
  },
  {
   "cell_type": "code",
   "execution_count": 2,
   "metadata": {},
   "outputs": [
    {
     "ename": "NameError",
     "evalue": "name 'torch' is not defined",
     "output_type": "error",
     "traceback": [
      "\u001b[0;31m---------------------------------------------------------------------------\u001b[0m",
      "\u001b[0;31mNameError\u001b[0m                                 Traceback (most recent call last)",
      "\u001b[0;32m<ipython-input-2-a047d45b8982>\u001b[0m in \u001b[0;36m<module>\u001b[0;34m()\u001b[0m\n\u001b[0;32m----> 1\u001b[0;31m \u001b[0;32mclass\u001b[0m \u001b[0mMyReLU\u001b[0m\u001b[0;34m(\u001b[0m\u001b[0mtorch\u001b[0m\u001b[0;34m.\u001b[0m\u001b[0mautograd\u001b[0m\u001b[0;34m.\u001b[0m\u001b[0mFunction\u001b[0m\u001b[0;34m)\u001b[0m\u001b[0;34m:\u001b[0m\u001b[0;34m\u001b[0m\u001b[0m\n\u001b[0m\u001b[1;32m      2\u001b[0m \u001b[0;31m# The forwrd method applies the function to the input argument.\u001b[0m\u001b[0;34m\u001b[0m\u001b[0;34m\u001b[0m\u001b[0m\n\u001b[1;32m      3\u001b[0m \u001b[0;31m# The ctx argument can be used to cache information for the gradient computation.\u001b[0m\u001b[0;34m\u001b[0m\u001b[0;34m\u001b[0m\u001b[0m\n\u001b[1;32m      4\u001b[0m     \u001b[0;32mdef\u001b[0m \u001b[0mforward\u001b[0m\u001b[0;34m(\u001b[0m\u001b[0mctx\u001b[0m\u001b[0;34m,\u001b[0m \u001b[0minput\u001b[0m\u001b[0;34m)\u001b[0m\u001b[0;34m:\u001b[0m\u001b[0;34m\u001b[0m\u001b[0m\n\u001b[1;32m      5\u001b[0m     \u001b[0;31m# The input is needed later to calculate the gradient.\u001b[0m\u001b[0;34m\u001b[0m\u001b[0;34m\u001b[0m\u001b[0m\n",
      "\u001b[0;31mNameError\u001b[0m: name 'torch' is not defined"
     ]
    }
   ],
   "source": [
    "class MyReLU(torch.autograd.Function):\n",
    "# The forwrd method applies the function to the input argument.\n",
    "# The ctx argument can be used to cache information for the gradient computation.\n",
    "    def forward(ctx, input):\n",
    "    # The input is needed later to calculate the gradient.\n",
    "        ctx.save_for_backward(input) \n",
    "        return input.clamp(min=0)\n",
    "    # The backward method calculates the gradient of the input, given that\n",
    "    # the gradient of the output is the output_grad argument.\n",
    "    def backward(ctx, output_grad):\n",
    "        # Recover the original input from ctx.\n",
    "        input, = ctx.saved_tensors\n",
    "        grad_input = output_grad.clone()\n",
    "    # Zero out the output gradient where the input is negative\n",
    "    # the input gradient.\n",
    "        grad_input[input < 0] = 0 \n",
    "        return grad_input\n",
    "    # Apply the new function to a tensor.\n",
    "\n",
    "print(MyReLU.apply(x - 0.5))\n",
    "# Calculating derivatives utilizes the backward method.\n",
    "z = torch.mul(MyReLU.apply(x - 0.5), y)\n",
    "# In this case z is not a scalar, so we must provide the derivatives\n",
    "# of the outputs. What is actually computed is the gradient of\n",
    "# z dot output_grad with respect to x.\n",
    "output_grad = torch.ones([2]) \n",
    "print(torch.autograd.grad(outputs=z, inputs=x, grad_outputs =output_grad))"
   ]
  }
 ],
 "metadata": {
  "kernelspec": {
   "display_name": "Python 3",
   "language": "python",
   "name": "python3"
  },
  "language_info": {
   "codemirror_mode": {
    "name": "ipython",
    "version": 3
   },
   "file_extension": ".py",
   "mimetype": "text/x-python",
   "name": "python",
   "nbconvert_exporter": "python",
   "pygments_lexer": "ipython3",
   "version": "3.6.6"
  }
 },
 "nbformat": 4,
 "nbformat_minor": 2
}
